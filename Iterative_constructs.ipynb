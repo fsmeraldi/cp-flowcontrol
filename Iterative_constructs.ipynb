{
 "cells": [
  {
   "cell_type": "markdown",
   "metadata": {},
   "source": [
    "One of the few things computers are really good at is repeating the same actions over and over again (possibly on different data). This is achieved with iterative constructs (**loops**). This notebook introduces loops; combining these instructions with conditional statements and the advanced data structures we covered in the first few lessons, you will be able to write  useful code."
   ]
  },
  {
   "cell_type": "code",
   "execution_count": null,
   "metadata": {
    "scrolled": true
   },
   "outputs": [],
   "source": [
    "# run this cell to access an audio comment\n",
    "from IPython.display import Audio\n",
    "Audio('media/ic-intro.mp3')"
   ]
  },
  {
   "cell_type": "markdown",
   "metadata": {},
   "source": [
    "# For loop"
   ]
  },
  {
   "cell_type": "markdown",
   "metadata": {},
   "source": [
    "This is a control structure that allows you to repeat a block, while an index variable takes on a predefined set of values. Formally we write this as:\n",
    "```\n",
    "for VAR in ITERABLE:\n",
    "    BLOCK\n",
    "```"
   ]
  },
  {
   "cell_type": "markdown",
   "metadata": {},
   "source": [
    "An ITERABLE is essentially an ordered collection of items (think a list, a tuple or a file). Example:"
   ]
  },
  {
   "cell_type": "code",
   "execution_count": null,
   "metadata": {
    "scrolled": true
   },
   "outputs": [],
   "source": [
    "count=['tinker','tailor','soldier','sailor']\n",
    "for c in count:\n",
    "    print(c)"
   ]
  },
  {
   "cell_type": "markdown",
   "metadata": {},
   "source": [
    "Again, note the indentation of the block which is mandatory."
   ]
  },
  {
   "cell_type": "code",
   "execution_count": null,
   "metadata": {
    "scrolled": true
   },
   "outputs": [],
   "source": [
    "# run this cell to show a video, use slider to resize it, type Esc-o to hide it\n",
    "from IPython.display import Video; from ipywidgets import interactive, IntSlider\n",
    "def _play(resize): display(Video(filename=\"media/ic-simple_for.webm\",data=\"\",width=resize))\n",
    "interactive(_play, resize=IntSlider(min=150, max=900, step=50, value=600, continuous_update=False, readout=False))"
   ]
  },
  {
   "cell_type": "markdown",
   "metadata": {},
   "source": [
    "In other languages ```for``` loops use an index variable that iterates over a range of values. This can be done in Python by iterating over a list of numbers:"
   ]
  },
  {
   "cell_type": "code",
   "execution_count": null,
   "metadata": {
    "scrolled": true
   },
   "outputs": [],
   "source": [
    "a=[0,1,2,3,4]\n",
    "for i in a:\n",
    "    print(i)"
   ]
  },
  {
   "cell_type": "markdown",
   "metadata": {},
   "source": [
    "We can use the convenient function ``range``: this is an immutable sequence of numbers that's computed lazily as needed. This means that elements of the sequence are computed one at a time as they are used; the advantage is that all ranges take up the same space in memory regardless of their length - only the starting point, end point and optional step are stored (see the [documentation](https://docs.python.org/3/library/stdtypes.html#range) for more info). We won't worry about the details here:"
   ]
  },
  {
   "cell_type": "code",
   "execution_count": null,
   "metadata": {
    "scrolled": true
   },
   "outputs": [],
   "source": [
    "print(range(0,5)) # I told you, this guy is lazy\n",
    "print(list(range(0,5))) # this forces computation of all elements right away\n",
    "print(list(range(5))) # we can be lazy too, and leave the 0 out!"
   ]
  },
  {
   "cell_type": "markdown",
   "metadata": {},
   "source": [
    "so, no need to write down the list ```a``` explicitly:"
   ]
  },
  {
   "cell_type": "code",
   "execution_count": null,
   "metadata": {
    "scrolled": true
   },
   "outputs": [],
   "source": [
    "a=range(0,5) # laziness is good...\n",
    "for i in a:  # ... each element computed as needed\n",
    "    print(i)"
   ]
  },
  {
   "cell_type": "markdown",
   "metadata": {},
   "source": [
    "or even more simply:"
   ]
  },
  {
   "cell_type": "code",
   "execution_count": null,
   "metadata": {
    "scrolled": true
   },
   "outputs": [],
   "source": [
    "for i in range(5): \n",
    "    print(i)"
   ]
  },
  {
   "cell_type": "code",
   "execution_count": null,
   "metadata": {},
   "outputs": [],
   "source": [
    "# run this cell to show a video, use slider to resize it, type Esc-o to hide it\n",
    "from IPython.display import Video; from ipywidgets import interactive, IntSlider\n",
    "def _play(resize): display(Video(filename=\"media/ic-lazy_computation.webm\",data=\"\",width=resize))\n",
    "interactive(_play, resize=IntSlider(min=150, max=900, step=50, value=600, continuous_update=False, readout=False))"
   ]
  },
  {
   "cell_type": "markdown",
   "metadata": {},
   "source": [
    "As we have seen, we can iterate over the content of a list directly. However, sometimes we may want to iterate over a list explicitly using the index, maybe because we have more than one list at the same time. This is a very typical use of the loop variable:"
   ]
  },
  {
   "cell_type": "code",
   "execution_count": null,
   "metadata": {
    "scrolled": true
   },
   "outputs": [],
   "source": [
    "extension=['.doc','.jpg','.mp3','.mp4']\n",
    "content=['text', 'images', 'audio', 'video']\n",
    "for i in range(0,4):\n",
    "    print(extension[i] + \" files contain \"+ content[i])"
   ]
  },
  {
   "cell_type": "markdown",
   "metadata": {},
   "source": [
    "However, Python also gives us an option to create a \"composite\" list and iterate over that one:"
   ]
  },
  {
   "cell_type": "code",
   "execution_count": null,
   "metadata": {
    "scrolled": true
   },
   "outputs": [],
   "source": [
    "extension=['.doc','.jpg','.mp3','.mp4']\n",
    "content=['text', 'images', 'audio', 'video']\n",
    "for (c,a) in zip(extension, content):\n",
    "    print(c + \" files contain \"+ a)"
   ]
  },
  {
   "cell_type": "code",
   "execution_count": null,
   "metadata": {},
   "outputs": [],
   "source": [
    "# run this cell to show a video, use slider to resize it, type Esc-o to hide it\n",
    "from IPython.display import Video; from ipywidgets import interactive, IntSlider\n",
    "def _play(resize): display(Video(filename=\"media/ic-zip.webm\",data=\"\",width=resize))\n",
    "interactive(_play, resize=IntSlider(min=150, max=900, step=50, value=600, continuous_update=False, readout=False))"
   ]
  },
  {
   "cell_type": "markdown",
   "metadata": {},
   "source": [
    "In another example, you can step through a string:"
   ]
  },
  {
   "cell_type": "code",
   "execution_count": null,
   "metadata": {
    "scrolled": true
   },
   "outputs": [],
   "source": [
    "message=\"spam\"\n",
    "# IRSA: International Radiotelephony Spelling Alphabet\n",
    "irsa={'a': 'Alfa', 'm': 'Mike', 'p': 'Papa', 's': 'Sierra'}\n",
    "for l in message:\n",
    "    # 'end' parameter replaces final newline with space\n",
    "    print (irsa[l], end=\" \") \n",
    "print()"
   ]
  },
  {
   "cell_type": "markdown",
   "metadata": {},
   "source": [
    "Another classic example is the multiplication table:"
   ]
  },
  {
   "cell_type": "code",
   "execution_count": null,
   "metadata": {
    "scrolled": true
   },
   "outputs": [],
   "source": [
    "num_str=input(\"Give me a number: \")\n",
    "num=int (num_str)\n",
    "for i in range(0,11):\n",
    "        print (num, \"*\", i, \"=\", num*i)"
   ]
  },
  {
   "cell_type": "markdown",
   "metadata": {},
   "source": [
    "### Nested loops"
   ]
  },
  {
   "cell_type": "markdown",
   "metadata": {},
   "source": [
    "Note that loops can be **nested** by placing one loop inside the other. Then the inner loop runs its entire course over and over again as specified by the outer loop:"
   ]
  },
  {
   "cell_type": "code",
   "execution_count": null,
   "metadata": {
    "scrolled": true
   },
   "outputs": [],
   "source": [
    "for i in range(1,11):\n",
    "        for j in range (1,11):\n",
    "            # print(i*j, end=\" \") # spacing is a bit wonky\n",
    "            # Fancy \"{:3d} \".format() syntax to get the right spacing\n",
    "            print(\"{:3d} \".format(i*j), end= \"\")\n",
    "        print() # only runs once for each value of i"
   ]
  },
  {
   "cell_type": "markdown",
   "metadata": {},
   "source": [
    "I strongly recommend that you paste the code above into the [Pythontutor](http://pythontutor.com/visualize.html#mode=edit) online intepreter and run through it step by step in order to understand how the values of ```i``` and ```j``` change throughout the execution."
   ]
  },
  {
   "cell_type": "code",
   "execution_count": null,
   "metadata": {},
   "outputs": [],
   "source": [
    "# run this cell to show a video, use slider to resize it, type Esc-o to hide it\n",
    "from IPython.display import Video; from ipywidgets import interactive, IntSlider\n",
    "def _play(resize): display(Video(filename=\"media/ic-nested_loops.webm\",data=\"\",width=resize))\n",
    "interactive(_play, resize=IntSlider(min=150, max=900, step=50, value=600, continuous_update=False, readout=False))"
   ]
  },
  {
   "cell_type": "markdown",
   "metadata": {},
   "source": [
    "# While loop"
   ]
  },
  {
   "cell_type": "markdown",
   "metadata": {},
   "source": [
    "This other type of loop does not iterate over an object such as a list, but keeps looping until a certain condition becomes false. The syntax is:\n",
    "```\n",
    "while EXPRESSION:\n",
    "    BLOCK\n",
    "```\n",
    "where *EXPRESSION* is a Boolean expression of the type we saw previously in conjunction with *if/else*.\n",
    "\n",
    "Since there is no predefined object to iterate on, this type of loop comes in handy when we do not know in advance how many objects we need to process - say when reading a file, or asking the user for input.\n"
   ]
  },
  {
   "cell_type": "code",
   "execution_count": null,
   "metadata": {},
   "outputs": [],
   "source": [
    "# run this cell to show a video, use slider to resize it, type Esc-o to hide it\n",
    "from IPython.display import Video; from ipywidgets import interactive, IntSlider\n",
    "def _play(resize): display(Video(filename=\"media/ic-while.webm\",data=\"\",width=resize))\n",
    "interactive(_play, resize=IntSlider(min=150, max=900, step=50, value=600, continuous_update=False, readout=False))"
   ]
  },
  {
   "cell_type": "markdown",
   "metadata": {},
   "source": [
    "Another example (note the \"accumulator\" technique):"
   ]
  },
  {
   "cell_type": "code",
   "execution_count": null,
   "metadata": {
    "scrolled": true
   },
   "outputs": [],
   "source": [
    "print(\"Enter numbers or 'sum' to display the total\")\n",
    "total=0.0 # this is called an \"accumulator\"\n",
    "userin=input(\">> \")\n",
    "while userin!=\"sum\":\n",
    "    num=float(userin)\n",
    "    total+=num\n",
    "    userin=input(\">> \")\n",
    "print(\"\\nThe total is: \", total)"
   ]
  },
  {
   "cell_type": "markdown",
   "metadata": {},
   "source": [
    "In other situations, we might genuinely not know where we should stop:"
   ]
  },
  {
   "cell_type": "code",
   "execution_count": null,
   "metadata": {
    "scrolled": true
   },
   "outputs": [],
   "source": [
    "power=1\n",
    "while power<=1000:\n",
    "    power*=2\n",
    "print (\"The lowest power of 2 greater than 1000 is\", power)"
   ]
  },
  {
   "cell_type": "code",
   "execution_count": null,
   "metadata": {},
   "outputs": [],
   "source": [
    "# run this cell to show a video, use slider to resize it, type Esc-o to hide it\n",
    "from IPython.display import Video; from ipywidgets import interactive, IntSlider\n",
    "def _play(resize): display(Video(filename=\"media/ic-accumulator.webm\",data=\"\",width=resize))\n",
    "interactive(_play, resize=IntSlider(min=150, max=900, step=50, value=600, continuous_update=False, readout=False))"
   ]
  },
  {
   "cell_type": "markdown",
   "metadata": {},
   "source": [
    "# The \"break\" statement"
   ]
  },
  {
   "cell_type": "markdown",
   "metadata": {},
   "source": [
    "Sometimes, it is convenient to break out of a ```for``` loop when a condition is met. For example, during a search, we may be happy with the first match and economise on computer resources by not looking any further. The ```break``` statement allows us to exit a loop there and then (and as such, is normally found inside an ```if``` clause):"
   ]
  },
  {
   "cell_type": "code",
   "execution_count": null,
   "metadata": {
    "scrolled": true
   },
   "outputs": [],
   "source": [
    "database=[\"Alan Turing\",\"Isaac Newton\", \"Charles Darwin\", \"William Thomson\"]\n",
    "query=input(\"Who are you thinking of? \")\n",
    "hit=\"\"\n",
    "# perform a \"linear search\"\n",
    "for n in database:\n",
    "    if query in n: # this check is time consuming\n",
    "        hit=n\n",
    "        break # no need to look any further\n",
    "        \n",
    "# notice that unless we have found a match, hit is untouched\n",
    "if hit!=\"\":\n",
    "    print(f\"Do you mean {hit}?\")\n",
    "else:\n",
    "    print(\"Sorry, I have no clue\")"
   ]
  },
  {
   "cell_type": "markdown",
   "metadata": {},
   "source": [
    "We may also want to break out of a ```while``` loop, which sometimes leads to elegant solutions:"
   ]
  },
  {
   "cell_type": "code",
   "execution_count": null,
   "metadata": {
    "scrolled": true
   },
   "outputs": [],
   "source": [
    "print(\"Enter numbers or 'sum' to display the total\")\n",
    "total=0.0 # this is called an \"accumulator\"\n",
    "while True: # forever!\n",
    "    userin=input(\">> \")\n",
    "    if userin==\"sum\":\n",
    "        break\n",
    "    num=float(userin)\n",
    "    total+=num\n",
    "print(\"The total is: \", total)"
   ]
  },
  {
   "cell_type": "code",
   "execution_count": null,
   "metadata": {},
   "outputs": [],
   "source": [
    "# run this cell to show a video, use slider to resize it, type Esc-o to hide it\n",
    "from IPython.display import Video; from ipywidgets import interactive, IntSlider\n",
    "def _play(resize): display(Video(filename=\"media/ic-break.webm\",data=\"\",width=resize))\n",
    "interactive(_play, resize=IntSlider(min=150, max=900, step=50, value=600, continuous_update=False, readout=False))"
   ]
  },
  {
   "cell_type": "markdown",
   "metadata": {},
   "source": [
    "# The \"continue\" statement"
   ]
  },
  {
   "cell_type": "markdown",
   "metadata": {},
   "source": [
    "The ```continue``` statement takes us to the next iteration of a loop. It is typically used to skip input that is invalid or irrelevant, for instance commented lines in a file, or erroneous values. Here are two simple examples.\n",
    "\n",
    "The number 4 is considered [unlucky](https://en.wikipedia.org/wiki/Tetraphobia) in many East Asian countries because it sounds similar to the word \"death\". Therefore, you may want to skip it while printing:"
   ]
  },
  {
   "cell_type": "code",
   "execution_count": null,
   "metadata": {},
   "outputs": [],
   "source": [
    "# continue in a for loop\n",
    "for i in range(1, 11):\n",
    "    if i==4: # oh, no...\n",
    "        continue # go straight to the next one\n",
    "    print(i)"
   ]
  },
  {
   "cell_type": "markdown",
   "metadata": {},
   "source": [
    "In another application involving a ```while``` loop, we may want to handle invalid input to our accumulator. The conversion to ```float``` fails and crashes the program if the user input is not a number (apart for the word \"sum\" that's handled separately - try it on the previous version of this program). Using a ```continue``` statement allows us to prevent the crash and go around to ask for more input."
   ]
  },
  {
   "cell_type": "code",
   "execution_count": null,
   "metadata": {},
   "outputs": [],
   "source": [
    "print(\"Enter numbers or 'sum' to display the total\")\n",
    "total=0.0 # this is called an \"accumulator\"\n",
    "while True: # forever!\n",
    "    userin=input(\">> \")\n",
    "    if userin==\"sum\":\n",
    "        break\n",
    "    if not userin.isnumeric(): # a string method\n",
    "        print(\"Error: Invalid input\")\n",
    "        continue\n",
    "    num=float(userin)\n",
    "    total+=num\n",
    "print(\"The total is: \", total)"
   ]
  },
  {
   "cell_type": "markdown",
   "metadata": {},
   "source": [
    "**(C) 2014,2020 Fabrizio Smeraldi** ([f.smeraldi@qmul.ac.uk](mailto:f.smeraldi@qmul.ac.uk) - [web](http://www.eecs.qmul.ac.uk/~fabri/)), all rights reserved. In: \"Computer Programming\", School of Electronic Engineering and Computer Science, Queen Mary University of London."
   ]
  }
 ],
 "metadata": {
  "kernelspec": {
   "display_name": "Python 3",
   "language": "python",
   "name": "python3"
  },
  "language_info": {
   "codemirror_mode": {
    "name": "ipython",
    "version": 3
   },
   "file_extension": ".py",
   "mimetype": "text/x-python",
   "name": "python",
   "nbconvert_exporter": "python",
   "pygments_lexer": "ipython3",
   "version": "3.8.10"
  }
 },
 "nbformat": 4,
 "nbformat_minor": 1
}
