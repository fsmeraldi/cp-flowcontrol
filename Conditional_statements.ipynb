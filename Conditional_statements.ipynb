{
 "cells": [
  {
   "cell_type": "markdown",
   "metadata": {},
   "source": [
    "# Conditional structures"
   ]
  },
  {
   "cell_type": "markdown",
   "metadata": {},
   "source": [
    "In order to allow coding arbitrary operations, a programming language needs to provide three types of control structures to steer the execution flow:\n",
    "* sequential execution\n",
    "    * commands executed in the order in which they are written\n",
    "    * what we have seen so far\n",
    "* **conditional execution**\n",
    "    * branch on conditions\n",
    "    * different parts of code executed depending on data\n",
    "* loops\n",
    "    * repeat a set of actions many times\n",
    "    "
   ]
  },
  {
   "cell_type": "code",
   "execution_count": null,
   "metadata": {},
   "outputs": [],
   "source": [
    "# run this cell to show a video, use slider to resize it, type Esc-o to hide it\n",
    "from IPython.display import Video; from ipywidgets import interactive, IntSlider\n",
    "def _play(resize): display(Video(filename=\"media/cs-intro.webm\",data=\"\",width=resize))\n",
    "interactive(_play, resize=IntSlider(min=150, max=900, step=50, value=600, continuous_update=False, readout=False))"
   ]
  },
  {
   "cell_type": "markdown",
   "metadata": {},
   "source": [
    "# Conditional statements: if-else"
   ]
  },
  {
   "cell_type": "markdown",
   "metadata": {},
   "source": [
    "The ```if```-```else``` statement is the basic conditional, present in most programming languages. In detail, it looks like this:\n",
    "```\n",
    "if CONDITION:\n",
    "    Block1\n",
    "else:\n",
    "    Block2\n",
    "    \n",
    "```\n",
    "the indentation is important!\n",
    "Example:"
   ]
  },
  {
   "cell_type": "code",
   "execution_count": null,
   "metadata": {},
   "outputs": [],
   "source": [
    "kettle_temp=89\n",
    "if kettle_temp>90:\n",
    "    print(\"Brew\")\n",
    "else:\n",
    "    print(\"Wait\")"
   ]
  },
  {
   "cell_type": "markdown",
   "metadata": {},
   "source": [
    "Or, if no alternative action is required:"
   ]
  },
  {
   "cell_type": "code",
   "execution_count": null,
   "metadata": {},
   "outputs": [],
   "source": [
    "a=2+2\n",
    "if a!=4: # != means \"not equal\"\n",
    "    print(\"Madness!\")"
   ]
  },
  {
   "cell_type": "markdown",
   "metadata": {},
   "source": [
    "### Watch your tabs"
   ]
  },
  {
   "cell_type": "markdown",
   "metadata": {},
   "source": [
    "In the example above, indentation is essential. This won't work:"
   ]
  },
  {
   "cell_type": "code",
   "execution_count": null,
   "metadata": {},
   "outputs": [],
   "source": [
    "kettle_temp=95\n",
    "if kettle_temp>90:\n",
    "print(\"Brew\")\n",
    "else:\n",
    "print(\"Wait\")"
   ]
  },
  {
   "cell_type": "markdown",
   "metadata": {},
   "source": [
    "Indentation marks a **block**. You can think of a block as a group of statements that behaves like a single statement from the point of view of if/else, loops, function definitions, etc. Example: "
   ]
  },
  {
   "cell_type": "code",
   "execution_count": null,
   "metadata": {},
   "outputs": [],
   "source": [
    "kettle_temp=90\n",
    "if kettle_temp==100: # Note the `double equals'\n",
    "    # this is a block containing one statement\n",
    "    print(\"Boiling\") \n",
    "else: \n",
    "    # this is another block containing 2 statements\n",
    "    print(\"Boyle's law: \")\n",
    "print(\"A watched kettle never Boyles :)\") \n",
    "print(\"Ending indentation will end the block - this line always runs\")\n"
   ]
  },
  {
   "cell_type": "code",
   "execution_count": null,
   "metadata": {},
   "outputs": [],
   "source": [
    "# run this cell to show a video, use slider to resize it, type Esc-o to hide it\n",
    "from IPython.display import Video; from ipywidgets import interactive, IntSlider\n",
    "def _play(resize): display(Video(filename=\"media/cs-indentation.webm\",data=\"\",width=resize))\n",
    "interactive(_play, resize=IntSlider(min=150, max=900, step=50, value=600, continuous_update=False, readout=False))"
   ]
  },
  {
   "cell_type": "markdown",
   "metadata": {},
   "source": [
    "# Conditional statements: if-elif-else"
   ]
  },
  {
   "cell_type": "markdown",
   "metadata": {},
   "source": [
    "We can code more than two alternatives using the ```elif``` keyword"
   ]
  },
  {
   "cell_type": "code",
   "execution_count": null,
   "metadata": {},
   "outputs": [],
   "source": [
    "kettle_temp=96\n",
    "if kettle_temp>=95: \n",
    "    print(\"Brew English breakfast\")\n",
    "elif kettle_temp>=90:\n",
    "    print(\"Brew green tea\") \n",
    "else:\n",
    "    print(\"Boyle's law: \", end =\"\") # no newline\n",
    "    print(\"A watched kettle never Boyles :)\")\n",
    "print(\"...or, you can have a beer\")"
   ]
  },
  {
   "cell_type": "markdown",
   "metadata": {},
   "source": [
    "Note that only the first test that's true triggers the execution of the corresponding block. For instance, if ```kettle_temp``` is 96 then it is also larger than 90, but \"Brew green tea\" is not printed."
   ]
  },
  {
   "cell_type": "code",
   "execution_count": null,
   "metadata": {},
   "outputs": [],
   "source": [
    "# run this cell to show a video, use slider to resize it, type Esc-o to hide it\n",
    "from IPython.display import Video; from ipywidgets import interactive, IntSlider\n",
    "def _play(resize): display(Video(filename=\"media/cs-test-order.webm\",data=\"\",width=resize))\n",
    "interactive(_play, resize=IntSlider(min=150, max=900, step=50, value=600, continuous_update=False, readout=False))"
   ]
  },
  {
   "cell_type": "markdown",
   "metadata": {},
   "source": [
    "# Boolean expressions"
   ]
  },
  {
   "cell_type": "markdown",
   "metadata": {},
   "source": [
    "The condition in an ```if``` statement is a Boolean expression. That is anything that evaluates to either ```True``` or ```False```, typically the output of **comparison operators**. See [here](http://www.tutorialspoint.com/python/comparison_operators_example.htm) for a list and an example. Here are the main ones:\n",
    "\n",
    "| Operator | Description   |\n",
    "|----------|------------|\n",
    "| ==       | equality   |\n",
    "| !=  | not equal  |\n",
    "| >  or  <   | greater/less than |\n",
    "| >=  or  <= | as above, with equality |\n",
    "\n",
    "Example:"
   ]
  },
  {
   "cell_type": "code",
   "execution_count": null,
   "metadata": {},
   "outputs": [],
   "source": [
    "a=5\n",
    "print(a==5)   # True\n",
    "print(a!=6)   # True\n",
    "print(a!=5)   # False\n",
    "print(3>5)    # False\n",
    "print(5<=a)   # True"
   ]
  },
  {
   "cell_type": "markdown",
   "metadata": {},
   "source": [
    "The same operators can be applied to strings:"
   ]
  },
  {
   "cell_type": "code",
   "execution_count": null,
   "metadata": {},
   "outputs": [],
   "source": [
    "a=\"Beast\"\n",
    "b=\"Animal\"\n",
    "print(a>b) # Alphabetical order\n",
    "print(\"a\">\"b\") # Still alphabetical order!"
   ]
  },
  {
   "cell_type": "markdown",
   "metadata": {},
   "source": [
    "You can combine several comparison operators with each other using **relational operators**:\n",
    "\n",
    "| Operator  | Name        | Description                                             |\n",
    "|:-----------:|-------------|---------------------------------------------------------|\n",
    "|  and      | logical AND | True if and only if both operands are true              |\n",
    "|  or       | logical OR  | True if at least one operand is true                    |\n",
    "|  not      | logical NOT | True if operand false and vice-versa                    |\n",
    "\n",
    "Example:"
   ]
  },
  {
   "cell_type": "code",
   "execution_count": null,
   "metadata": {},
   "outputs": [],
   "source": [
    "print((3<2) and (5>4))\n",
    "print((3<2) or  (5>4))\n",
    "print(not (3<2))"
   ]
  },
  {
   "cell_type": "markdown",
   "metadata": {},
   "source": [
    "Note that the comparisons return Boolean values that are combined by the relational operators. In another example, we may use relational operators to act directly on Boolean variables: "
   ]
  },
  {
   "cell_type": "code",
   "execution_count": null,
   "metadata": {},
   "outputs": [],
   "source": [
    "isGood=True\n",
    "isFast=False\n",
    "isCheap=True\n",
    "# for the mathematically minded, this is computed as (isGood and isFast) and isCheap. \n",
    "# Because the result of the bracket is in this case  False, isCheap is not even evaluated, \n",
    "# which saves some time. We say the \"and\" operator is \"short-circuiting\".\n",
    "isPerfect=isGood and isFast and isCheap\n",
    "print (isPerfect)"
   ]
  },
  {
   "cell_type": "markdown",
   "metadata": {},
   "source": [
    "Of course, you normally deal with variables of unknown value. So, putting it all together:"
   ]
  },
  {
   "cell_type": "code",
   "execution_count": null,
   "metadata": {},
   "outputs": [],
   "source": [
    "kettle_temp=int(input(\"Temperature? \"))\n",
    "tea=input(\"Type of tea? \")\n",
    "if ( ((kettle_temp>=90) and (kettle_temp<95) and (tea==\"green\")) or # open bracket means that...\n",
    "     ((kettle_temp>95) and (tea==\"breakfast\")) ):  # ...this line continues the previous one\n",
    "        print(\"Brew\")\n",
    "else:\n",
    "        print(\"Nope\")"
   ]
  },
  {
   "cell_type": "code",
   "execution_count": null,
   "metadata": {},
   "outputs": [],
   "source": [
    "# run this cell to show a video, use slider to resize it, type Esc-o to hide it\n",
    "from IPython.display import Video; from ipywidgets import interactive, IntSlider\n",
    "def _play(resize): display(Video(filename=\"media/cs-Boolean.webm\",data=\"\",width=resize))\n",
    "interactive(_play, resize=IntSlider(min=150, max=900, step=50, value=600, continuous_update=False, readout=False))"
   ]
  },
  {
   "cell_type": "markdown",
   "metadata": {},
   "source": [
    "# Conditional expressions"
   ]
  },
  {
   "cell_type": "markdown",
   "metadata": {},
   "source": [
    "The ```if```/```else``` constructs explored above are *statements*, and as such do not return any value. Sometimes we would like a shorthand notation for an expression that changes value according to some condition. For instance:"
   ]
  },
  {
   "cell_type": "code",
   "execution_count": null,
   "metadata": {},
   "outputs": [],
   "source": [
    "Celsius=False\n",
    "boiling_point=100 if Celsius else 212 # boiling_point=Celsius?100:212\n",
    "freezing_point= 0 if Celsius else 32\n",
    "print(boiling_point)\n",
    "print(freezing_point)"
   ]
  },
  {
   "cell_type": "markdown",
   "metadata": {},
   "source": [
    "Another example (note that here we have to have an else in any case, even if when a>=0 we do not want to change anything - the expression still needs to yield some value):"
   ]
  },
  {
   "cell_type": "code",
   "execution_count": null,
   "metadata": {},
   "outputs": [],
   "source": [
    "a=-1\n",
    "a=-a if a<0 else a # absolute value\n",
    "print(a)"
   ]
  },
  {
   "cell_type": "code",
   "execution_count": null,
   "metadata": {},
   "outputs": [],
   "source": [
    "# run this cell to show a video, use slider to resize it, type Esc-o to hide it\n",
    "from IPython.display import Video, clear_output; from ipywidgets import interactive, IntSlider\n",
    "def _play(resize): display(Video(filename=\"media/cs-conditional_expressions.webm\",data=\"\",width=resize))\n",
    "interactive(_play, resize=IntSlider(min=150, max=900, step=50, value=600, continuous_update=False, readout=False))"
   ]
  },
  {
   "cell_type": "markdown",
   "metadata": {},
   "source": [
    "# Reminder: list comprehensions"
   ]
  },
  {
   "cell_type": "markdown",
   "metadata": {},
   "source": [
    "We already  encountered a conditional of sorts before:"
   ]
  },
  {
   "cell_type": "code",
   "execution_count": null,
   "metadata": {},
   "outputs": [],
   "source": [
    "l=list(range(0,10)) # a quick way to build a sequence of numbers\n",
    "print(l)\n",
    "a=[x for x in l if x< 5] # a list comprehension\n",
    "print(a) "
   ]
  },
  {
   "cell_type": "code",
   "execution_count": null,
   "metadata": {},
   "outputs": [],
   "source": [
    "# run this cell to show a video, use slider to resize it, type Esc-o to hide it\n",
    "from IPython.display import Video; from ipywidgets import interactive, IntSlider\n",
    "def _play(resize): display(Video(filename=\"media/cs-list_comprehensions.webm\",data=\"\",width=resize))\n",
    "interactive(_play, resize=IntSlider(min=150, max=900, step=50, value=600, continuous_update=False, readout=False))"
   ]
  },
  {
   "cell_type": "markdown",
   "metadata": {},
   "source": [
    "**(C) 2014,2020 Fabrizio Smeraldi** ([f.smeraldi@qmul.ac.uk](mailto:f.smeraldi@qmul.ac.uk) - [web](http://www.eecs.qmul.ac.uk/~fabri/)), all rights reserved. In: \"Computer Programming\", School of Electronic Engineering and Computer Science, Queen Mary University of London."
   ]
  }
 ],
 "metadata": {
  "kernelspec": {
   "display_name": "Python 3",
   "language": "python",
   "name": "python3"
  },
  "language_info": {
   "codemirror_mode": {
    "name": "ipython",
    "version": 3
   },
   "file_extension": ".py",
   "mimetype": "text/x-python",
   "name": "python",
   "nbconvert_exporter": "python",
   "pygments_lexer": "ipython3",
   "version": "3.8.10"
  }
 },
 "nbformat": 4,
 "nbformat_minor": 1
}
